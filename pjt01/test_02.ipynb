{
 "cells": [
  {
   "cell_type": "code",
   "execution_count": 3,
   "metadata": {
    "scrolled": true
   },
   "outputs": [
    {
     "name": "stdout",
     "output_type": "stream",
     "text": [
      "<class 'dict'> {'movieInfoResult': {'movieInfo': {'movieCd': '20186822', 'movieNm': '너의 췌장을 먹고 싶어', 'movieNmEn': 'I want to eat your pancreas', 'movieNmOg': '君の膵臓をたべたい', 'showTm': '109', 'prdtYear': '2018', 'openDt': '20181115', 'prdtStatNm': '개봉', 'typeNm': '장편', 'nations': [{'nationNm': '일본'}], 'genres': [{'genreNm': '애니메이션'}, {'genreNm': '드라마'}], 'directors': [{'peopleNm': '우시지마 신이치로', 'peopleNmEn': 'Shinichiro Ushijima'}], 'actors': [{'peopleNm': '타카스기 마히로', 'peopleNmEn': 'Mahiro Takasugi', 'cast': '나 (목소리)', 'castEn': ''}, {'peopleNm': '린', 'peopleNmEn': 'Lynn', 'cast': '사쿠라 (목소리)', 'castEn': ''}, {'peopleNm': '후지이 유키요', 'peopleNmEn': 'Yukiyo Fujii', 'cast': '쿄코 (목소리)', 'castEn': ''}, {'peopleNm': '후쿠시마 준', 'peopleNmEn': 'Jun Fukushima', 'cast': '껌군 (목소리)', 'castEn': ''}], 'showTypes': [{'showTypeGroupNm': '2D', 'showTypeNm': '디지털'}], 'companys': [{'companyCd': '20100932', 'companyNm': '(주)넥스트엔터테인먼트월드(NEW)', 'companyNmEn': 'Next Entertainment World', 'companyPartNm': '배급사'}, {'companyCd': '20122956', 'companyNm': '(주)미디어캐슬', 'companyNmEn': '', 'companyPartNm': '수입사'}], 'audits': [{'auditNo': '2018-MF02041', 'watchGradeNm': '12세이상관람가'}], 'staffs': []}, 'source': '영화진흥위원회'}}\n"
     ]
    }
   ],
   "source": [
    "import copy\n",
    "import csv\n",
    "\n",
    "import requests\n",
    "# from decouple import config\n",
    "\n",
    "# API_KEY = config('API_KEY')\n",
    "\n",
    "URL = f'http://www.kobis.or.kr/kobisopenapi/webservice/rest/movie/searchMovieInfo.json?key=ca332ba70672c5032d0668b056d175d0&movieCd='\n",
    "\n",
    "data = requests.get(URL+'20186822').json()\n",
    "\n",
    "print(type(data), data)"
   ]
  },
  {
   "cell_type": "code",
   "execution_count": null,
   "metadata": {},
   "outputs": [],
   "source": []
  },
  {
   "cell_type": "code",
   "execution_count": 40,
   "metadata": {
    "scrolled": true
   },
   "outputs": [
    {
     "name": "stdout",
     "output_type": "stream",
     "text": [
      "<class 'dict'>\n",
      "{'movieCd': '20186822', 'movieNm': '너의 췌장을 먹고 싶어', 'movieNmEn': 'I want to eat your pancreas', 'movieNmOg': '君の膵臓をたべたい', 'showTm': '109', 'prdtYear': '2018', 'openDt': '20181115', 'prdtStatNm': '개봉', 'typeNm': '장편', 'nations': [{'nationNm': '일본'}], 'genres': [{'genreNm': '애니메이션'}, {'genreNm': '드라마'}], 'directors': [{'peopleNm': '우시지마 신이치로', 'peopleNmEn': 'Shinichiro Ushijima'}], 'actors': [{'peopleNm': '타카스기 마히로', 'peopleNmEn': 'Mahiro Takasugi', 'cast': '나 (목소리)', 'castEn': ''}, {'peopleNm': '린', 'peopleNmEn': 'Lynn', 'cast': '사쿠라 (목소리)', 'castEn': ''}, {'peopleNm': '후지이 유키요', 'peopleNmEn': 'Yukiyo Fujii', 'cast': '쿄코 (목소리)', 'castEn': ''}, {'peopleNm': '후쿠시마 준', 'peopleNmEn': 'Jun Fukushima', 'cast': '껌군 (목소리)', 'castEn': ''}], 'showTypes': [{'showTypeGroupNm': '2D', 'showTypeNm': '디지털'}], 'companys': [{'companyCd': '20100932', 'companyNm': '(주)넥스트엔터테인먼트월드(NEW)', 'companyNmEn': 'Next Entertainment World', 'companyPartNm': '배급사'}, {'companyCd': '20122956', 'companyNm': '(주)미디어캐슬', 'companyNmEn': '', 'companyPartNm': '수입사'}], 'audits': [{'auditNo': '2018-MF02041', 'watchGradeNm': '12세이상관람가'}], 'staffs': []}\n"
     ]
    }
   ],
   "source": [
    "print(type(data.get('movieInfoResult').get('movieInfo')))\n",
    "print(data.get('movieInfoResult').get('movieInfo'))"
   ]
  },
  {
   "cell_type": "code",
   "execution_count": 4,
   "metadata": {},
   "outputs": [
    {
     "name": "stdout",
     "output_type": "stream",
     "text": [
      "{'movieCd': '20186822', 'movieNm': '너의 췌장을 먹고 싶어', 'movieNmEn': 'I want to eat your pancreas', 'movieNmOg': '君の膵臓をたべたい', 'showTm': '109', 'prdtYear': '2018', 'openDt': '20181115', 'prdtStatNm': '개봉', 'typeNm': '장편', 'nations': [{'nationNm': '일본'}], 'genres': [{'genreNm': '애니메이션'}, {'genreNm': '드라마'}], 'directors': [{'peopleNm': '우시지마 신이치로', 'peopleNmEn': 'Shinichiro Ushijima'}], 'actors': [{'peopleNm': '타카스기 마히로', 'peopleNmEn': 'Mahiro Takasugi', 'cast': '나 (목소리)', 'castEn': ''}, {'peopleNm': '린', 'peopleNmEn': 'Lynn', 'cast': '사쿠라 (목소리)', 'castEn': ''}, {'peopleNm': '후지이 유키요', 'peopleNmEn': 'Yukiyo Fujii', 'cast': '쿄코 (목소리)', 'castEn': ''}, {'peopleNm': '후쿠시마 준', 'peopleNmEn': 'Jun Fukushima', 'cast': '껌군 (목소리)', 'castEn': ''}], 'showTypes': [{'showTypeGroupNm': '2D', 'showTypeNm': '디지털'}], 'companys': [{'companyCd': '20100932', 'companyNm': '(주)넥스트엔터테인먼트월드(NEW)', 'companyNmEn': 'Next Entertainment World', 'companyPartNm': '배급사'}, {'companyCd': '20122956', 'companyNm': '(주)미디어캐슬', 'companyNmEn': '', 'companyPartNm': '수입사'}], 'audits': [{'auditNo': '2018-MF02041', 'watchGradeNm': '12세이상관람가'}], 'staffs': []}\n"
     ]
    }
   ],
   "source": [
    "print(data['movieInfoResult']['movieInfo'])"
   ]
  },
  {
   "cell_type": "code",
   "execution_count": null,
   "metadata": {},
   "outputs": [],
   "source": [
    "# result['movieCd'] = data['movieInfoResult']['movieInfo']['movieCd']\n",
    "# result['movieNm'] = data['movieInfoResult']['movieInfo']['movieNm']\n",
    "# result['movieNmEn'] = data['movieInfoResult']['movieInfo']['movieNmEn']\n",
    "# result['movieNmOg'] = data['movieInfoResult']['movieInfo']['movieNmOg']\n",
    "# result['audits'] = data['movieInfoResult']['movieInfo']['audits']\n",
    "# result['prdtYear'] = data['movieInfoResult']['movieInfo']['prdtYear']\n",
    "# result['showTm'] = data['movieInfoResult']['movieInfo']['showTm']\n",
    "# result['genres'] = data['movieInfoResult']['movieInfo']['genres']\n",
    "# result['directors'] = data['movieInfoResult']['movieInfo']['directors']\n",
    "# data_list.append(copy.copy(result))"
   ]
  },
  {
   "cell_type": "code",
   "execution_count": 42,
   "metadata": {},
   "outputs": [],
   "source": [
    "# sol.\n",
    "# list 값이 비어있는 경우 값이 없어서 가져올 수가 없으니 코드 돌리면 에러가 난단말이야 \n",
    "# 그러니까 if 절을 false가 나면 실행이 되지 않도록 다음과 같이 작성해 준다.\n",
    "\n",
    "# if data['movieInfoResult']['movieInfo'][f'{tag}']:\n",
    "#     result[f'{tag}'] = data['movieInfoResult']['movieInfo'][f'{tag}'][0][???]\n",
    "\n",
    "\n",
    "# if data['movieInfoResult']['movieInfo']['audits']:\n",
    "#     result['audits'] = data['movieInfoResult']['movieInfo']['audits'][0]['watchGradeNm']\n",
    "\n",
    "\n",
    "# if data['movieInfoResult']['movieInfo']['movieNmOg']:\n",
    "#     result['movieNmOg'] = data['movieInfoResult']['movieInfo']['movieNmOg'][0]\n",
    "\n",
    "    \n",
    "# if data['movieInfoResult']['movieInfo']['genres']:\n",
    "#     result['genres'] = data['movieInfoResult']['movieInfo']['genres'][0]['genreNm']\n",
    "    \n",
    "# if data['movieInfoResult']['movieInfo']['directors']:\n",
    "#     result['directors'] = data['movieInfoResult']['movieInfo']['directors'][0]['peopleNm']"
   ]
  },
  {
   "cell_type": "code",
   "execution_count": 43,
   "metadata": {},
   "outputs": [
    {
     "name": "stdout",
     "output_type": "stream",
     "text": [
      "[{'movieCd': '2', 'movieNm': '너', 'movieNmEn': 'I', 'prdtYear': '2', 'showTm': '1'}]\n"
     ]
    }
   ],
   "source": [
    "# result = {}\n",
    "# data_list = []\n",
    "\n",
    "# infos = ['movieCd', 'movieNm', 'movieNmEn', 'prdtYear', 'showTm']\n",
    "\n",
    "# infos = ['movieCd', 'movieNm', 'movieNmEn', 'movieNmOg', 'audits', 'prdtYear', 'showTm', 'genres', 'directors' , ]\n",
    "\n",
    "# for info in infos:\n",
    "#     if data['movieInfoResult']['movieInfo'][f'{info}']:\n",
    "#         result[f'{tag}'] = data['movieInfoResult']['movieInfo'][f'{tnfo}'][0]\n",
    "# data_list.append(copy.copy(result))\n",
    "\n",
    "# print(data_list)"
   ]
  },
  {
   "cell_type": "code",
   "execution_count": 56,
   "metadata": {},
   "outputs": [
    {
     "name": "stdout",
     "output_type": "stream",
     "text": [
      "[{'movieCd': '20186822', 'movieNm': '너의 췌장을 먹고 싶어', 'movieNmEn': 'I want to eat your pancreas', 'movieNmOg': '君の膵臓をたべたい', 'audits': '12세이상관람가', 'prdtYear': '2018', 'showTm': '109', 'genres': '애니메이션', 'directors': '우시지마 신이치로'}]\n"
     ]
    }
   ],
   "source": [
    "result = {}\n",
    "data_list = []\n",
    "\n",
    "infos = ['movieCd', 'movieNm', 'movieNmEn', 'movieNmOg', 'audits', 'prdtYear', 'showTm', 'genres', 'directors' , ]\n",
    "for info in infos:  \n",
    "    result[f'{info}'] = data['movieInfoResult']['movieInfo'][f'{info}']\n",
    "\n",
    "if data['movieInfoResult']['movieInfo']['audits']:\n",
    "    result['audits'] = data['movieInfoResult']['movieInfo']['audits'][0]['watchGradeNm']\n",
    "if data['movieInfoResult']['movieInfo']['genres']:\n",
    "    result['genres'] = data['movieInfoResult']['movieInfo']['genres'][0]['genreNm']\n",
    "if data['movieInfoResult']['movieInfo']['directors']:\n",
    "    result['directors'] = data['movieInfoResult']['movieInfo']['directors'][0]['peopleNm']\n",
    "\n",
    "data_list.append(copy.copy(result))\n",
    "\n",
    "print(data_list)"
   ]
  },
  {
   "cell_type": "code",
   "execution_count": null,
   "metadata": {},
   "outputs": [],
   "source": []
  },
  {
   "cell_type": "code",
   "execution_count": null,
   "metadata": {},
   "outputs": [],
   "source": []
  },
  {
   "cell_type": "code",
   "execution_count": 51,
   "metadata": {},
   "outputs": [
    {
     "ename": "NameError",
     "evalue": "name 'items' is not defined",
     "output_type": "error",
     "traceback": [
      "\u001b[0;31m---------------------------------------------------------------------------\u001b[0m",
      "\u001b[0;31mNameError\u001b[0m                                 Traceback (most recent call last)",
      "\u001b[0;32m<ipython-input-51-159532b70167>\u001b[0m in \u001b[0;36m<module>\u001b[0;34m\u001b[0m\n\u001b[1;32m     10\u001b[0m \u001b[0;34m\u001b[0m\u001b[0m\n\u001b[1;32m     11\u001b[0m \u001b[0;34m\u001b[0m\u001b[0m\n\u001b[0;32m---> 12\u001b[0;31m \u001b[0;32mfor\u001b[0m \u001b[0mitem\u001b[0m \u001b[0;32min\u001b[0m \u001b[0mitems\u001b[0m\u001b[0;34m:\u001b[0m\u001b[0;34m\u001b[0m\u001b[0;34m\u001b[0m\u001b[0m\n\u001b[0m\u001b[1;32m     13\u001b[0m     \u001b[0mdata\u001b[0m \u001b[0;34m=\u001b[0m \u001b[0mrequests\u001b[0m\u001b[0;34m.\u001b[0m\u001b[0mget\u001b[0m\u001b[0;34m(\u001b[0m\u001b[0mURL\u001b[0m\u001b[0;34m+\u001b[0m\u001b[0mitem\u001b[0m\u001b[0;34m[\u001b[0m\u001b[0;36m0\u001b[0m\u001b[0;34m]\u001b[0m\u001b[0;34m)\u001b[0m\u001b[0;34m.\u001b[0m\u001b[0mjson\u001b[0m\u001b[0;34m(\u001b[0m\u001b[0;34m)\u001b[0m\u001b[0;34m\u001b[0m\u001b[0;34m\u001b[0m\u001b[0m\n\u001b[1;32m     14\u001b[0m     \u001b[0;32mif\u001b[0m \u001b[0mdata\u001b[0m\u001b[0;34m[\u001b[0m\u001b[0;34m'movieInfoResult'\u001b[0m\u001b[0;34m]\u001b[0m\u001b[0;34m[\u001b[0m\u001b[0;34m'movieInfo'\u001b[0m\u001b[0;34m]\u001b[0m\u001b[0;34m[\u001b[0m\u001b[0;34m'audits'\u001b[0m\u001b[0;34m]\u001b[0m\u001b[0;34m:\u001b[0m\u001b[0;34m\u001b[0m\u001b[0;34m\u001b[0m\u001b[0m\n",
      "\u001b[0;31mNameError\u001b[0m: name 'items' is not defined"
     ]
    }
   ],
   "source": [
    "result = {}\n",
    "data_list = []\n",
    "\n",
    "infos = ['movieCd', 'movieNm', 'movieNmEn', 'movieNmOg', 'audits', 'prdtYear', 'showTm', 'genres', 'directors' , ]\n",
    "for info in infos:\n",
    "    result[f'{info}'] = data['movieInfoResult']['movieInfo'][f'{info}']\n",
    "    data_list.append(copy.copy(result))\n",
    "    \n",
    "# item 리스트 자체를 csv에서 가져오는건데...이걸 f-string 사용할 수 있는 항목을 따로 불러올 수 있는가\n",
    "\n",
    "    \n",
    "for item in items:\n",
    "    data = requests.get(URL+item[0]).json()\n",
    "    if data['movieInfoResult']['movieInfo']['audits']:\n",
    "        result['audits'] = data['movieInfoResult']['movieInfo']['audits'][0]['watchGradeNm']\n",
    "    if data['movieInfoResult']['movieInfo']['genres']:\n",
    "        result['genres'] = data['movieInfoResult']['movieInfo']['genres'][0]['genreNm']\n",
    "    if data['movieInfoResult']['movieInfo']['directors']:\n",
    "        result['directors'] = data['movieInfoResult']['movieInfo']['directors'][0]['peopleNm']\n",
    "    data_list.append(copy.copy(result))"
   ]
  },
  {
   "cell_type": "code",
   "execution_count": null,
   "metadata": {},
   "outputs": [],
   "source": []
  },
  {
   "cell_type": "code",
   "execution_count": 31,
   "metadata": {},
   "outputs": [],
   "source": [
    "# result = {}\n",
    "# data_list = []\n",
    "\n",
    "# infos = ['movieCd', 'movieNm', 'movieNmEn', 'prdtYear', 'showTm']\n",
    "# #infos = ['movieCd', 'movieNm', 'movieNmEn', 'movieNmOg', 'audits', 'prdtYear', 'showTm', 'genres', 'directors' , ]\n",
    "\n",
    "# for info in infos:\n",
    "#     result[f'{info}'] = data['movieInfoResult']['movieInfo'][f'{info}']\n",
    "#     data_list.append(copy.copy(result))\n",
    "\n",
    "# !!! 왜 결과가 이렇게 나오는가... !!!\n",
    "\n",
    "# print(data_list)"
   ]
  },
  {
   "cell_type": "code",
   "execution_count": null,
   "metadata": {},
   "outputs": [],
   "source": []
  },
  {
   "cell_type": "code",
   "execution_count": null,
   "metadata": {},
   "outputs": [],
   "source": []
  },
  {
   "cell_type": "code",
   "execution_count": null,
   "metadata": {},
   "outputs": [],
   "source": []
  },
  {
   "cell_type": "code",
   "execution_count": null,
   "metadata": {},
   "outputs": [],
   "source": []
  },
  {
   "cell_type": "code",
   "execution_count": null,
   "metadata": {},
   "outputs": [],
   "source": []
  },
  {
   "cell_type": "code",
   "execution_count": null,
   "metadata": {},
   "outputs": [],
   "source": []
  },
  {
   "cell_type": "code",
   "execution_count": null,
   "metadata": {},
   "outputs": [],
   "source": []
  },
  {
   "cell_type": "code",
   "execution_count": null,
   "metadata": {},
   "outputs": [],
   "source": []
  },
  {
   "cell_type": "code",
   "execution_count": null,
   "metadata": {},
   "outputs": [],
   "source": [
    "[\n",
    "    {'movieCd': '20183782',\n",
    "     'movieNm': '기생충',\n",
    "     'movieNmEn': 'PARASITE',\n",
    "     'movieNmOg': '',\n",
    "     'audits': [{'auditNo': '2019-MF00595', 'watchGradeNm': '15세이상관람가'}],\n",
    "     'prdtYear': '2019',\n",
    "     'showTm': '131',\n",
    "     'genres': [{'genreNm': '드라마'}],\n",
    "     'directors': [{'peopleNm': '봉준호', 'peopleNmEn': 'BONG Joon-ho'}]\n",
    "    }\n",
    "]\n"
   ]
  },
  {
   "cell_type": "code",
   "execution_count": null,
   "metadata": {},
   "outputs": [],
   "source": []
  },
  {
   "cell_type": "code",
   "execution_count": null,
   "metadata": {},
   "outputs": [],
   "source": []
  },
  {
   "cell_type": "code",
   "execution_count": null,
   "metadata": {},
   "outputs": [],
   "source": []
  }
 ],
 "metadata": {
  "kernelspec": {
   "display_name": "Python 3",
   "language": "python",
   "name": "python3"
  },
  "language_info": {
   "codemirror_mode": {
    "name": "ipython",
    "version": 3
   },
   "file_extension": ".py",
   "mimetype": "text/x-python",
   "name": "python",
   "nbconvert_exporter": "python",
   "pygments_lexer": "ipython3",
   "version": "3.7.4"
  }
 },
 "nbformat": 4,
 "nbformat_minor": 2
}
