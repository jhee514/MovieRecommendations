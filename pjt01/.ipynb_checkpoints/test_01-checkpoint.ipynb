{
 "cells": [
  {
   "cell_type": "code",
   "execution_count": 4,
   "metadata": {},
   "outputs": [
    {
     "name": "stdout",
     "output_type": "stream",
     "text": [
      "{'boxOfficeResult': {'boxofficeType': '주말 박스오피스', 'showRange': '20190712~20190714', 'yearWeekTime': '201928', 'weeklyBoxOfficeList': [{'rnum': '1', 'rank': '1', 'rankInten': '0', 'rankOldAndNew': 'OLD', 'movieCd': '20196309', 'movieNm': '스파이더맨: 파 프롬 홈', 'openDt': '2019-07-02', 'salesAmt': '11554695230', 'salesShare': '49.5', 'salesInten': '-13567929120', 'salesChange': '-54.0', 'salesAcc': '57709310340', 'audiCnt': '1302522', 'audiInten': '-1555300', 'audiChange': '-54.4', 'audiAcc': '6685136', 'scrnCnt': '1708', 'showCnt': '25563'}, {'rnum': '2', 'rank': '2', 'rankInten': '0', 'rankOldAndNew': 'OLD', 'movieCd': '20183867', 'movieNm': '알라딘', 'openDt': '2019-05-23', 'salesAmt': '5477973020', 'salesShare': '23.5', 'salesInten': '260204110', 'salesChange': '5.0', 'salesAcc': '86703824479', 'audiCnt': '623546', 'audiInten': '19624', 'audiChange': '3.2', 'audiAcc': '10161233', 'scrnCnt': '975', 'showCnt': '9633'}, {'rnum': '3', 'rank': '3', 'rankInten': '0', 'rankOldAndNew': 'OLD', 'movieCd': '20184047', 'movieNm': '토이 스토리 4', 'openDt': '2019-06-20', 'salesAmt': '2062179210', 'salesShare': '8.8', 'salesInten': '-831438970', 'salesChange': '-28.7', 'salesAcc': '26720315850', 'audiCnt': '243118', 'audiInten': '-104021', 'audiChange': '-30.0', 'audiAcc': '3151060', 'scrnCnt': '784', 'showCnt': '4866'}, {'rnum': '4', 'rank': '4', 'rankInten': '0', 'rankOldAndNew': 'NEW', 'movieCd': '20185353', 'movieNm': '기방도령', 'openDt': '2019-07-10', 'salesAmt': '1039472930', 'salesShare': '4.5', 'salesInten': '1039472930', 'salesChange': '100.0', 'salesAcc': '1816098140', 'audiCnt': '118776', 'audiInten': '118776', 'audiChange': '100.0', 'audiAcc': '220182', 'scrnCnt': '603', 'showCnt': '5703'}, {'rnum': '5', 'rank': '5', 'rankInten': '0', 'rankOldAndNew': 'NEW', 'movieCd': '20191601', 'movieNm': '극장판 엉덩이 탐정: 화려한 사건 수첩', 'openDt': '2019-07-11', 'salesAmt': '755074840', 'salesShare': '3.2', 'salesInten': '755074840', 'salesChange': '100.0', 'salesAcc': '811862520', 'audiCnt': '93944', 'audiInten': '93944', 'audiChange': '100.0', 'audiAcc': '101245', 'scrnCnt': '561', 'showCnt': '2570'}, {'rnum': '6', 'rank': '6', 'rankInten': '0', 'rankOldAndNew': 'NEW', 'movieCd': '20185986', 'movieNm': '진범', 'openDt': '2019-07-10', 'salesAmt': '661013300', 'salesShare': '2.8', 'salesInten': '661013300', 'salesChange': '100.0', 'salesAcc': '922196600', 'audiCnt': '74145', 'audiInten': '74145', 'audiChange': '100.0', 'audiAcc': '106756', 'scrnCnt': '224', 'showCnt': '2438'}, {'rnum': '7', 'rank': '7', 'rankInten': '-3', 'rankOldAndNew': 'OLD', 'movieCd': '20183782', 'movieNm': '기생충', 'openDt': '2019-05-30', 'salesAmt': '506735120', 'salesShare': '2.2', 'salesInten': '-287949640', 'salesChange': '-36.2', 'salesAcc': '84601476725', 'audiCnt': '64267', 'audiInten': '-25611', 'audiChange': '-28.5', 'audiAcc': '9919835', 'scrnCnt': '360', 'showCnt': '1680'}, {'rnum': '8', 'rank': '8', 'rankInten': '21', 'rankOldAndNew': 'OLD', 'movieCd': '20192151', 'movieNm': '미드소마', 'openDt': '2019-07-11', 'salesAmt': '304193910', 'salesShare': '1.3', 'salesInten': '299199410', 'salesChange': '5990.6', 'salesAcc': '427369480', 'audiCnt': '31752', 'audiInten': '31227', 'audiChange': '5948.0', 'audiAcc': '45707', 'scrnCnt': '375', 'showCnt': '1867'}, {'rnum': '9', 'rank': '9', 'rankInten': '-3', 'rankOldAndNew': 'OLD', 'movieCd': '20199951', 'movieNm': '애나벨 집으로', 'openDt': '2019-06-26', 'salesAmt': '259004140', 'salesShare': '1.1', 'salesInten': '-173465580', 'salesChange': '-40.1', 'salesAcc': '3809833030', 'audiCnt': '30789', 'audiInten': '-22397', 'audiChange': '-42.1', 'audiAcc': '459037', 'scrnCnt': '154', 'showCnt': '813'}, {'rnum': '10', 'rank': '10', 'rankInten': '-5', 'rankOldAndNew': 'OLD', 'movieCd': '20196655', 'movieNm': '존 윅 3: 파라벨룸', 'openDt': '2019-06-26', 'salesAmt': '182696180', 'salesShare': '0.8', 'salesInten': '-412456620', 'salesChange': '-69.3', 'salesAcc': '7802546702', 'audiCnt': '20052', 'audiInten': '-45900', 'audiChange': '-69.6', 'audiAcc': '913066', 'scrnCnt': '187', 'showCnt': '691'}]}}\n"
     ]
    }
   ],
   "source": [
    "import requests\n",
    "# from decouple import config\n",
    "from datetime import datetime, timedelta\n",
    "\n",
    "# API_KEY = config('API_KEY')\n",
    "\n",
    "# d = datetime(2019, 7, 12) - timedelta(weeks=50)\n",
    "# d.strftime(\"%Y%m%d\")\n",
    "\n",
    "URL = f'http://www.kobis.or.kr/kobisopenapi/webservice/rest/boxoffice/searchWeeklyBoxOfficeList.json?key=430156241533f1d058c603178cc3ca0e&targetDt='\n",
    "\n",
    "data = requests.get(URL+'20190713').json()\n",
    "\n",
    "print(data)"
   ]
  },
  {
   "cell_type": "code",
   "execution_count": 6,
   "metadata": {},
   "outputs": [
    {
     "name": "stdout",
     "output_type": "stream",
     "text": [
      "[{'movieNm': '스파이더맨: 파 프롬 홈', 'movieCd': '20196309', 'audiAcc': '6685136'}, {'movieNm': '알라딘', 'movieCd': '20183867', 'audiAcc': '10161233'}, {'movieNm': '토이 스토리 4', 'movieCd': '20184047', 'audiAcc': '3151060'}, {'movieNm': '기방도령', 'movieCd': '20185353', 'audiAcc': '220182'}, {'movieNm': '극장판 엉덩이 탐정: 화려한 사건 수첩', 'movieCd': '20191601', 'audiAcc': '101245'}, {'movieNm': '진범', 'movieCd': '20185986', 'audiAcc': '106756'}, {'movieNm': '기생충', 'movieCd': '20183782', 'audiAcc': '9919835'}, {'movieNm': '미드소마', 'movieCd': '20192151', 'audiAcc': '45707'}, {'movieNm': '애나벨 집으로', 'movieCd': '20199951', 'audiAcc': '459037'}, {'movieNm': '존 윅 3: 파라벨룸', 'movieCd': '20196655', 'audiAcc': '913066'}]\n"
     ]
    }
   ],
   "source": [
    "import copy\n",
    "\n",
    "top_10 = []\n",
    "result = {}\n",
    "\n",
    "for movie in data.get('boxOfficeResult').get('weeklyBoxOfficeList'):\n",
    "    result['movieNm'] = movie.get('movieNm')\n",
    "    result['movieCd'] = movie.get('movieCd')\n",
    "    result['audiAcc'] = movie.get('audiAcc')\n",
    "    top_10.append(copy.copy(result))\n",
    "    \n",
    "print(top_10)  "
   ]
  },
  {
   "cell_type": "code",
   "execution_count": 97,
   "metadata": {},
   "outputs": [
    {
     "ename": "AttributeError",
     "evalue": "'list' object has no attribute 'keys'",
     "output_type": "error",
     "traceback": [
      "\u001b[1;31m--------------------------------------------\u001b[0m",
      "\u001b[1;31mAttributeError\u001b[0mTraceback (most recent call last)",
      "\u001b[1;32m<ipython-input-97-2716b36be692>\u001b[0m in \u001b[0;36m<module>\u001b[1;34m\u001b[0m\n\u001b[0;32m     19\u001b[0m     \u001b[0mwriter\u001b[0m\u001b[1;33m.\u001b[0m\u001b[0mwriteheader\u001b[0m\u001b[1;33m(\u001b[0m\u001b[1;33m)\u001b[0m\u001b[1;33m\u001b[0m\u001b[1;33m\u001b[0m\u001b[0m\n\u001b[0;32m     20\u001b[0m     \u001b[1;32mfor\u001b[0m \u001b[0mmovie\u001b[0m \u001b[1;32min\u001b[0m \u001b[0mtop_10\u001b[0m\u001b[1;33m:\u001b[0m\u001b[1;33m\u001b[0m\u001b[1;33m\u001b[0m\u001b[0m\n\u001b[1;32m---> 21\u001b[1;33m         \u001b[0mwriter\u001b[0m\u001b[1;33m.\u001b[0m\u001b[0mwriterow\u001b[0m\u001b[1;33m(\u001b[0m\u001b[0mtop_10\u001b[0m\u001b[1;33m)\u001b[0m\u001b[1;33m\u001b[0m\u001b[1;33m\u001b[0m\u001b[0m\n\u001b[0m\u001b[0;32m     22\u001b[0m \u001b[1;33m\u001b[0m\u001b[0m\n",
      "\u001b[1;32mC:\\Program Files\\Python37\\lib\\csv.py\u001b[0m in \u001b[0;36mwriterow\u001b[1;34m(self, rowdict)\u001b[0m\n\u001b[0;32m    153\u001b[0m \u001b[1;33m\u001b[0m\u001b[0m\n\u001b[0;32m    154\u001b[0m     \u001b[1;32mdef\u001b[0m \u001b[0mwriterow\u001b[0m\u001b[1;33m(\u001b[0m\u001b[0mself\u001b[0m\u001b[1;33m,\u001b[0m \u001b[0mrowdict\u001b[0m\u001b[1;33m)\u001b[0m\u001b[1;33m:\u001b[0m\u001b[1;33m\u001b[0m\u001b[1;33m\u001b[0m\u001b[0m\n\u001b[1;32m--> 155\u001b[1;33m         \u001b[1;32mreturn\u001b[0m \u001b[0mself\u001b[0m\u001b[1;33m.\u001b[0m\u001b[0mwriter\u001b[0m\u001b[1;33m.\u001b[0m\u001b[0mwriterow\u001b[0m\u001b[1;33m(\u001b[0m\u001b[0mself\u001b[0m\u001b[1;33m.\u001b[0m\u001b[0m_dict_to_list\u001b[0m\u001b[1;33m(\u001b[0m\u001b[0mrowdict\u001b[0m\u001b[1;33m)\u001b[0m\u001b[1;33m)\u001b[0m\u001b[1;33m\u001b[0m\u001b[1;33m\u001b[0m\u001b[0m\n\u001b[0m\u001b[0;32m    156\u001b[0m \u001b[1;33m\u001b[0m\u001b[0m\n\u001b[0;32m    157\u001b[0m     \u001b[1;32mdef\u001b[0m \u001b[0mwriterows\u001b[0m\u001b[1;33m(\u001b[0m\u001b[0mself\u001b[0m\u001b[1;33m,\u001b[0m \u001b[0mrowdicts\u001b[0m\u001b[1;33m)\u001b[0m\u001b[1;33m:\u001b[0m\u001b[1;33m\u001b[0m\u001b[1;33m\u001b[0m\u001b[0m\n",
      "\u001b[1;32mC:\\Program Files\\Python37\\lib\\csv.py\u001b[0m in \u001b[0;36m_dict_to_list\u001b[1;34m(self, rowdict)\u001b[0m\n\u001b[0;32m    146\u001b[0m     \u001b[1;32mdef\u001b[0m \u001b[0m_dict_to_list\u001b[0m\u001b[1;33m(\u001b[0m\u001b[0mself\u001b[0m\u001b[1;33m,\u001b[0m \u001b[0mrowdict\u001b[0m\u001b[1;33m)\u001b[0m\u001b[1;33m:\u001b[0m\u001b[1;33m\u001b[0m\u001b[1;33m\u001b[0m\u001b[0m\n\u001b[0;32m    147\u001b[0m         \u001b[1;32mif\u001b[0m \u001b[0mself\u001b[0m\u001b[1;33m.\u001b[0m\u001b[0mextrasaction\u001b[0m \u001b[1;33m==\u001b[0m \u001b[1;34m\"raise\"\u001b[0m\u001b[1;33m:\u001b[0m\u001b[1;33m\u001b[0m\u001b[1;33m\u001b[0m\u001b[0m\n\u001b[1;32m--> 148\u001b[1;33m             \u001b[0mwrong_fields\u001b[0m \u001b[1;33m=\u001b[0m \u001b[0mrowdict\u001b[0m\u001b[1;33m.\u001b[0m\u001b[0mkeys\u001b[0m\u001b[1;33m(\u001b[0m\u001b[1;33m)\u001b[0m \u001b[1;33m-\u001b[0m \u001b[0mself\u001b[0m\u001b[1;33m.\u001b[0m\u001b[0mfieldnames\u001b[0m\u001b[1;33m\u001b[0m\u001b[1;33m\u001b[0m\u001b[0m\n\u001b[0m\u001b[0;32m    149\u001b[0m             \u001b[1;32mif\u001b[0m \u001b[0mwrong_fields\u001b[0m\u001b[1;33m:\u001b[0m\u001b[1;33m\u001b[0m\u001b[1;33m\u001b[0m\u001b[0m\n\u001b[0;32m    150\u001b[0m                 raise ValueError(\"dict contains fields not in fieldnames: \"\n",
      "\u001b[1;31mAttributeError\u001b[0m: 'list' object has no attribute 'keys'"
     ]
    }
   ],
   "source": [
    "import copy\n",
    "\n",
    "top_10 = []\n",
    "result = {}\n",
    "cd_list = []\n",
    "\n",
    "for movie in data.get('boxOfficeResult').get('weeklyBoxOfficeList'):\n",
    "    result['movieNm'] = movie.get('movieNm')\n",
    "    result['movieCd'] = movie.get('movieCd')\n",
    "    result['audiAcc'] = movie.get('audiAcc')\n",
    "    top_10.append(copy.copy(result))\n",
    "    cd_list.append(copy.copy(result[\"movieCd\"]))\n",
    "\n",
    "import csv\n",
    "\n",
    "with open ('boxoffice.csv', 'w', encoding='utf-8', newline='') as f:\n",
    "    fieldnames = ['movieCd', 'movieNm', 'audiAcc']\n",
    "    writer = csv.DictWriter(f, fieldnames=fieldnames)\n",
    "    writer.writeheader()\n",
    "    for movie in top_10:\n",
    "        writer.writerow()\n",
    "    "
   ]
  },
  {
   "cell_type": "code",
   "execution_count": null,
   "metadata": {},
   "outputs": [],
   "source": []
  },
  {
   "cell_type": "markdown",
   "metadata": {},
   "source": [
    "지난 50주의 기록을 가져와야\n",
    "data의 날짜를 다르게 해서 for 문을 돌리면 top_10리스트 에 모든 영화의 딕셔너리값이 저장이 될 것.\n",
    "\n",
    "1. data의 날짜 변수 d를 n주 전 날짜가 나올 수 있게 아래와 같이\n",
    "\n",
    "    for n in range(51):\n",
    "        d = datetime(2019, 7, 13) - timedelta(weeks=n)\n",
    "        data = requests.get(URL+d.strftime(\"%Y%m%d\")).json()\n",
    "    \n",
    "2. for문을 이용해서 이 "
   ]
  },
  {
   "cell_type": "code",
   "execution_count": 43,
   "metadata": {},
   "outputs": [
    {
     "name": "stdout",
     "output_type": "stream",
     "text": [
      "20190713\n",
      "20190706\n",
      "20190629\n",
      "20190622\n",
      "20190615\n",
      "20190608\n",
      "20190601\n",
      "20190525\n",
      "20190518\n",
      "20190511\n",
      "20190504\n",
      "20190427\n",
      "20190420\n",
      "20190413\n",
      "20190406\n",
      "20190330\n",
      "20190323\n",
      "20190316\n",
      "20190309\n",
      "20190302\n",
      "20190223\n",
      "20190216\n",
      "20190209\n",
      "20190202\n",
      "20190126\n",
      "20190119\n",
      "20190112\n",
      "20190105\n",
      "20181229\n",
      "20181222\n",
      "20181215\n",
      "20181208\n",
      "20181201\n",
      "20181124\n",
      "20181117\n",
      "20181110\n",
      "20181103\n",
      "20181027\n",
      "20181020\n",
      "20181013\n",
      "20181006\n",
      "20180929\n",
      "20180922\n",
      "20180915\n",
      "20180908\n",
      "20180901\n",
      "20180825\n",
      "20180818\n",
      "20180811\n",
      "20180804\n",
      "20180728\n"
     ]
    }
   ],
   "source": [
    "# from datetime import datetime, timedelta\n",
    "\n",
    "# for n in range(51):\n",
    "#         d = datetime(2019, 7, 13) - timedelta(weeks=n)\n",
    "#         data = requests.get(URL+d.strftime(\"%Y%m%d\")).json()\n",
    "#         print(d.strftime(\"%Y%m%d\"))"
   ]
  },
  {
   "cell_type": "code",
   "execution_count": null,
   "metadata": {},
   "outputs": [],
   "source": []
  },
  {
   "cell_type": "code",
   "execution_count": null,
   "metadata": {},
   "outputs": [],
   "source": [
    "# if not movie.get('movieCd') in movie_codes:"
   ]
  },
  {
   "cell_type": "code",
   "execution_count": 91,
   "metadata": {},
   "outputs": [
    {
     "ename": "AttributeError",
     "evalue": "'dict_values' object has no attribute 'keys'",
     "output_type": "error",
     "traceback": [
      "\u001b[1;31m--------------------------------------------\u001b[0m",
      "\u001b[1;31mAttributeError\u001b[0mTraceback (most recent call last)",
      "\u001b[1;32m<ipython-input-91-58c4d60e5128>\u001b[0m in \u001b[0;36m<module>\u001b[1;34m\u001b[0m\n\u001b[0;32m      6\u001b[0m     \u001b[0mwriter\u001b[0m\u001b[1;33m.\u001b[0m\u001b[0mwriteheader\u001b[0m\u001b[1;33m(\u001b[0m\u001b[1;33m)\u001b[0m\u001b[1;33m\u001b[0m\u001b[1;33m\u001b[0m\u001b[0m\n\u001b[0;32m      7\u001b[0m     \u001b[1;32mfor\u001b[0m \u001b[0mmovie\u001b[0m \u001b[1;32min\u001b[0m \u001b[0mtop_10\u001b[0m\u001b[1;33m:\u001b[0m\u001b[1;33m\u001b[0m\u001b[1;33m\u001b[0m\u001b[0m\n\u001b[1;32m----> 8\u001b[1;33m         \u001b[0mwriter\u001b[0m\u001b[1;33m.\u001b[0m\u001b[0mwriterow\u001b[0m\u001b[1;33m(\u001b[0m\u001b[0mmovie\u001b[0m\u001b[1;33m.\u001b[0m\u001b[0mvalues\u001b[0m\u001b[1;33m(\u001b[0m\u001b[1;33m)\u001b[0m\u001b[1;33m)\u001b[0m\u001b[1;33m\u001b[0m\u001b[1;33m\u001b[0m\u001b[0m\n\u001b[0m\u001b[0;32m      9\u001b[0m \u001b[1;33m\u001b[0m\u001b[0m\n",
      "\u001b[1;32mC:\\Program Files\\Python37\\lib\\csv.py\u001b[0m in \u001b[0;36mwriterow\u001b[1;34m(self, rowdict)\u001b[0m\n\u001b[0;32m    153\u001b[0m \u001b[1;33m\u001b[0m\u001b[0m\n\u001b[0;32m    154\u001b[0m     \u001b[1;32mdef\u001b[0m \u001b[0mwriterow\u001b[0m\u001b[1;33m(\u001b[0m\u001b[0mself\u001b[0m\u001b[1;33m,\u001b[0m \u001b[0mrowdict\u001b[0m\u001b[1;33m)\u001b[0m\u001b[1;33m:\u001b[0m\u001b[1;33m\u001b[0m\u001b[1;33m\u001b[0m\u001b[0m\n\u001b[1;32m--> 155\u001b[1;33m         \u001b[1;32mreturn\u001b[0m \u001b[0mself\u001b[0m\u001b[1;33m.\u001b[0m\u001b[0mwriter\u001b[0m\u001b[1;33m.\u001b[0m\u001b[0mwriterow\u001b[0m\u001b[1;33m(\u001b[0m\u001b[0mself\u001b[0m\u001b[1;33m.\u001b[0m\u001b[0m_dict_to_list\u001b[0m\u001b[1;33m(\u001b[0m\u001b[0mrowdict\u001b[0m\u001b[1;33m)\u001b[0m\u001b[1;33m)\u001b[0m\u001b[1;33m\u001b[0m\u001b[1;33m\u001b[0m\u001b[0m\n\u001b[0m\u001b[0;32m    156\u001b[0m \u001b[1;33m\u001b[0m\u001b[0m\n\u001b[0;32m    157\u001b[0m     \u001b[1;32mdef\u001b[0m \u001b[0mwriterows\u001b[0m\u001b[1;33m(\u001b[0m\u001b[0mself\u001b[0m\u001b[1;33m,\u001b[0m \u001b[0mrowdicts\u001b[0m\u001b[1;33m)\u001b[0m\u001b[1;33m:\u001b[0m\u001b[1;33m\u001b[0m\u001b[1;33m\u001b[0m\u001b[0m\n",
      "\u001b[1;32mC:\\Program Files\\Python37\\lib\\csv.py\u001b[0m in \u001b[0;36m_dict_to_list\u001b[1;34m(self, rowdict)\u001b[0m\n\u001b[0;32m    146\u001b[0m     \u001b[1;32mdef\u001b[0m \u001b[0m_dict_to_list\u001b[0m\u001b[1;33m(\u001b[0m\u001b[0mself\u001b[0m\u001b[1;33m,\u001b[0m \u001b[0mrowdict\u001b[0m\u001b[1;33m)\u001b[0m\u001b[1;33m:\u001b[0m\u001b[1;33m\u001b[0m\u001b[1;33m\u001b[0m\u001b[0m\n\u001b[0;32m    147\u001b[0m         \u001b[1;32mif\u001b[0m \u001b[0mself\u001b[0m\u001b[1;33m.\u001b[0m\u001b[0mextrasaction\u001b[0m \u001b[1;33m==\u001b[0m \u001b[1;34m\"raise\"\u001b[0m\u001b[1;33m:\u001b[0m\u001b[1;33m\u001b[0m\u001b[1;33m\u001b[0m\u001b[0m\n\u001b[1;32m--> 148\u001b[1;33m             \u001b[0mwrong_fields\u001b[0m \u001b[1;33m=\u001b[0m \u001b[0mrowdict\u001b[0m\u001b[1;33m.\u001b[0m\u001b[0mkeys\u001b[0m\u001b[1;33m(\u001b[0m\u001b[1;33m)\u001b[0m \u001b[1;33m-\u001b[0m \u001b[0mself\u001b[0m\u001b[1;33m.\u001b[0m\u001b[0mfieldnames\u001b[0m\u001b[1;33m\u001b[0m\u001b[1;33m\u001b[0m\u001b[0m\n\u001b[0m\u001b[0;32m    149\u001b[0m             \u001b[1;32mif\u001b[0m \u001b[0mwrong_fields\u001b[0m\u001b[1;33m:\u001b[0m\u001b[1;33m\u001b[0m\u001b[1;33m\u001b[0m\u001b[0m\n\u001b[0;32m    150\u001b[0m                 raise ValueError(\"dict contains fields not in fieldnames: \"\n",
      "\u001b[1;31mAttributeError\u001b[0m: 'dict_values' object has no attribute 'keys'"
     ]
    }
   ],
   "source": [
    "import csv\n",
    "\n",
    "with open ('boxoffice.csv', 'w', encoding='utf-8', newline='') as f:\n",
    "    fieldnames = ['moiveCd', 'movieNm', 'audiAcc']\n",
    "    writer = csv.DictWriter(f, fieldnames=fieldnames)\n",
    "    writer.writeheader()\n",
    "    for movie in top_10:\n",
    "        writer.writerow(movie)"
   ]
  },
  {
   "cell_type": "code",
   "execution_count": null,
   "metadata": {},
   "outputs": [],
   "source": [
    "# import csv\n",
    "# with open('boxoffice.csv', 'w', encoding='utf-8', newline='') as f:\n",
    "#     fieldnames = ['movieCd', 'movieNm', 'audiAcc']\n",
    "#     writer = csv.DictWriter(f, fieldnames=fieldnames)\n",
    "#     writer.writeheader()\n",
    "#     for i in reresult:\n",
    "#         writer.writerow(i)"
   ]
  },
  {
   "cell_type": "code",
   "execution_count": null,
   "metadata": {},
   "outputs": [],
   "source": []
  }
 ],
 "metadata": {
  "kernelspec": {
   "display_name": "Python 3",
   "language": "python",
   "name": "python3"
  },
  "language_info": {
   "codemirror_mode": {
    "name": "ipython",
    "version": 3
   },
   "file_extension": ".py",
   "mimetype": "text/x-python",
   "name": "python",
   "nbconvert_exporter": "python",
   "pygments_lexer": "ipython3",
   "version": "3.7.4"
  }
 },
 "nbformat": 4,
 "nbformat_minor": 2
}
