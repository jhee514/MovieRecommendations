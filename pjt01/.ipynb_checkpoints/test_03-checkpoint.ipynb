{
 "cells": [
  {
   "cell_type": "code",
   "execution_count": null,
   "metadata": {},
   "outputs": [],
   "source": [
    "import requests\n",
    "\n",
    "URL_1 = 'http://www.kobis.or.kr/kobisopenapi/webservice/rest/movie/searchMovieInfo.json?key=ca332ba70672c5032d0668b056d175d0&movieCd=20184889'\n",
    "\n",
    "data_1 = requests.get(URL_1).json()\n",
    "\n",
    "print(data_1['movieInfoResult']['movieInfo']['directors'], data_1['movieInfoResult']['movieInfo']['directors'][0], data_1['movieInfoResult']['movieInfo']['directors'][0]['peopleNm'])\n",
    "print(type(data_1['movieInfoResult']['movieInfo']['directors'][0]), type(data_1['movieInfoResult']['movieInfo']['directors'][0]['peopleNm']))"
   ]
  },
  {
   "cell_type": "code",
   "execution_count": null,
   "metadata": {},
   "outputs": [],
   "source": []
  },
  {
   "cell_type": "code",
   "execution_count": null,
   "metadata": {},
   "outputs": [],
   "source": [
    "import requests\n",
    "\n",
    "URL = 'http://www.kobis.or.kr/kobisopenapi/webservice/rest/people/searchPeopleList.json?key=ca332ba70672c5032d0668b056d175d0&peopleNm='\n",
    "names = ['안소니 루소', '알폰소 쿠아론', '봉준호', '존 왓츠',]\n",
    "\n",
    "for name in names:\n",
    "    data_2 = requests.get(URL+f'{name}').json()\n",
    "    \n",
    "    print(type(data_2), data_2)"
   ]
  },
  {
   "cell_type": "code",
   "execution_count": null,
   "metadata": {},
   "outputs": [],
   "source": []
  },
  {
   "cell_type": "code",
   "execution_count": 11,
   "metadata": {},
   "outputs": [
    {
     "name": "stdout",
     "output_type": "stream",
     "text": [
      "<class 'dict'> [{'peopleCd': '10043421', 'peopleNm': '안소니 루소', 'repRoleNm': '감독', 'filmoNames': '어벤져스: 엔드게임|어벤져스: 인피니티 워|캡틴 아메리카: 시빌 워|캡틴 아메리카: 윈터 솔져|허니문크래셔|웰컴 투 콜린우드'}, {'peopleCd': '10045281', 'peopleNm': '알폰소 쿠아론', 'repRoleNm': '감독', 'filmoNames': '로마|그래비티|칠드런 오브 맨|해리포터와 아즈카반의 죄수|이투마마|위대한 유산 |러브 앤 히스테리|도대체 그 남자가 누구야'}, {'peopleCd': '10031641', 'peopleNm': '봉준호', 'repRoleNm': '감독', 'filmoNames': '기생충|옥자|해무(海霧)|설국열차|토니 레인즈의 한국영화 25년|마더|감독들, 김기영을 말하다|괴물|남극일기|살인의 추억|이공|피도 눈물도 없이|플란다스의 개|유령|모텔 선인장|인플루엔자|싱크 & 라이즈|백색인|지리멸렬|프레임 속의 기억들|인디포럼2014 필름1|도쿄!'}, {'peopleCd': '10038689', 'peopleNm': '존 왓츠', 'repRoleNm': '감독', 'filmoNames': '스파이더맨: 파 프롬 홈|스파이더맨: 홈 커밍|캅카'}, {'peopleCd': '10031641', 'peopleNm': '봉준호', 'repRoleNm': '감독', 'filmoNames': '기생충|옥자|해무(海霧)|설국열차|토니 레인즈의 한국영화 25년|마더|감독들, 김기영을 말하다|괴물|남극일기|살인의 추억|이공|피도 눈물도 없이|플란다스의 개|유령|모텔 선인장|인플루엔자|싱크 & 라이즈|백색인|지리멸렬|프레임 속의 기억들|인디포럼2014 필름1|도쿄!'}]\n"
     ]
    }
   ],
   "source": [
    "import copy\n",
    "import requests\n",
    "\n",
    "URL = 'http://www.kobis.or.kr/kobisopenapi/webservice/rest/people/searchPeopleList.json?key=ca332ba70672c5032d0668b056d175d0&peopleNm='\n",
    "names = ['안소니 루소', '알폰소 쿠아론', '봉준호', '존 왓츠', '봉준호',]\n",
    "\n",
    "result = {}\n",
    "data_list = []\n",
    "\n",
    "for name in names:\n",
    "    data_2 = requests.get(URL+f'{name}').json()\n",
    "#     print(type(data_2), data_2)\n",
    "    profiles = ['peopleCd', 'peopleNm', 'repRoleNm', 'filmoNames', ]\n",
    "    for profile in profiles:\n",
    "        result[f'{profile}'] = data_2['peopleListResult']['peopleList'][0][f'{profile}']\n",
    "    data_list.append(copy.copy(result))\n",
    "\n",
    "print(type(data_list[0]), data_list)"
   ]
  },
  {
   "cell_type": "code",
   "execution_count": 13,
   "metadata": {},
   "outputs": [
    {
     "data": {
      "text/plain": [
       "['안소니 루소', '알폰소 쿠아론', '봉준호', '존 왓츠']"
      ]
     },
     "execution_count": 13,
     "metadata": {},
     "output_type": "execute_result"
    }
   ],
   "source": [
    "directors  = []\n",
    "for n in range(len(data_list)):\n",
    "    if not data_list[n]['peopleNm'] in directors:\n",
    "        directors.append(data_list[n]['peopleNm'])  # ['안소니 루소', '알폰소 쿠아론', '봉준호', '존 왓츠', '봉준호']\n",
    "directors"
   ]
  },
  {
   "cell_type": "code",
   "execution_count": null,
   "metadata": {},
   "outputs": [],
   "source": []
  },
  {
   "cell_type": "code",
   "execution_count": null,
   "metadata": {},
   "outputs": [],
   "source": []
  },
  {
   "cell_type": "markdown",
   "metadata": {},
   "source": [
    "1. data 값의 유무 (감독이름이 비어있는 경우를 제외시키기)\n",
    "2. data 값이 있다면, 그 해당 data값의 'peopleNm' 이 현재 data_ilst내의 딕셔너리들 중에 같은 'peopleNm' 갖는 딕셔너리가 있다면 해당 data 제낀다\n",
    "3. 데이터값도 존재하고, 리스트 내 같은 이름 갖는 딕션 없다면, 각 항목별 정보를 result에 저장해서 데이터리스트에 추가"
   ]
  },
  {
   "cell_type": "code",
   "execution_count": 10,
   "metadata": {},
   "outputs": [
    {
     "data": {
      "text/plain": [
       "[]"
      ]
     },
     "execution_count": 10,
     "metadata": {},
     "output_type": "execute_result"
    }
   ],
   "source": [
    "import copy\n",
    "import requests\n",
    "\n",
    "URL = 'http://www.kobis.or.kr/kobisopenapi/webservice/rest/people/searchPeopleList.json?key=ca332ba70672c5032d0668b056d175d0&peopleNm='\n",
    "names = ['안소니 루소', '알폰소 쿠아론', '봉준호', '존 왓츠', '봉준호',]\n",
    "\n",
    "result = {}\n",
    "data_list = []\n",
    "profiles = ['peopleCd', 'peopleNm', 'repRoleNm', 'filmoNames',]\n",
    "\n",
    "for name in names:\n",
    "    data = requests.get(URL+f'{name}').json()\n",
    "    if data['peopleListResult']['peopleList']:\n",
    "        for n in range(len(data_list)):\n",
    "            if data['peopleListResult']['peopleList'][0]['peopleNm'] in data_list[n]['peopleNm']:\n",
    "                pass\n",
    "            else:\n",
    "                for profile in profiles:\n",
    "                    result[f'{profile}'] = data['peopleListResult']['peopleList'][0][f'{profile}']\n",
    "                data_list.append(copy.copy(result))\n",
    "                \n",
    "data_list"
   ]
  },
  {
   "cell_type": "code",
   "execution_count": null,
   "metadata": {},
   "outputs": [],
   "source": []
  },
  {
   "cell_type": "code",
   "execution_count": null,
   "metadata": {},
   "outputs": [],
   "source": []
  },
  {
   "cell_type": "markdown",
   "metadata": {},
   "source": [
    " {'peopleListResult':\n",
    "     {\n",
    "       'totCnt': 1,\n",
    "       'peopleList': [\n",
    "                             {'peopleCd': '10045281',\n",
    "                             'peopleNm': '알폰소 쿠아론',\n",
    "                             'peopleNmEn': 'Alfonso Cuaron', \n",
    "                             'repRoleNm': '감독', \n",
    "                             'filmoNames': '로마|그래비티|칠드런 오브 맨|해리포터와 아즈카반의 죄수|이투마마|위대한 유산 |러브 앤 히스테리|도대체 그 남자가 누구야'}\n",
    "                           ],\n",
    "      'source': '영화진흥위원회'\n",
    "      }\n",
    "}"
   ]
  },
  {
   "cell_type": "code",
   "execution_count": null,
   "metadata": {},
   "outputs": [],
   "source": [
    "import copy\n",
    "\n",
    "profiles = ['peopleCd', 'peopleNm', 'repRoleNm', 'filmoNames', ]\n",
    "data_list =[]\n",
    "result = {}\n",
    "\n",
    "for profile in profiles:\n",
    "    result[f'{profile}'] = data['peopleListResult']['peopleList'][0][f'{profile}']\n",
    "\n",
    "data_list.append(copy.copy(result))\n",
    "    \n",
    "print(type(result), data_list)"
   ]
  },
  {
   "cell_type": "code",
   "execution_count": null,
   "metadata": {},
   "outputs": [],
   "source": [
    "{\n",
    "    'peopleListResult':\n",
    "    {\n",
    "        'totCnt': 1,\n",
    "        'peopleList': [\n",
    "                            {\n",
    "                                'peopleCd': '10038689',\n",
    "                                'peopleNm': '존 왓츠',\n",
    "                                'peopleNmEn': 'Jon Watts',\n",
    "                                'repRoleNm': '감독',\n",
    "                                'filmoNames': '스파이더맨: 파 프롬 홈|스파이더맨: 홈 커밍|캅카'\n",
    "                            }\n",
    "                            ], 'source': '영화진흥위원회'\n",
    "    }\n",
    "}"
   ]
  },
  {
   "cell_type": "code",
   "execution_count": null,
   "metadata": {},
   "outputs": [],
   "source": [
    "data = {'peopleListResult': {'totCnt': 1, 'peopleList': [{'peopleCd': '10038689', 'peopleNm': '존 왓츠', 'peopleNmEn': 'Jon Watts', 'repRoleNm': '감독', 'filmoNames': '스파이더맨: 파 프롬 홈|스파이더맨: 홈 커밍|캅카'}], 'source': '영화진흥위원회'}}"
   ]
  },
  {
   "cell_type": "code",
   "execution_count": null,
   "metadata": {},
   "outputs": [],
   "source": []
  },
  {
   "cell_type": "code",
   "execution_count": null,
   "metadata": {},
   "outputs": [],
   "source": [
    "data['peopleListResult']['peopleList']\n",
    "type(data['peopleListResult']['peopleList'])"
   ]
  },
  {
   "cell_type": "code",
   "execution_count": null,
   "metadata": {},
   "outputs": [],
   "source": []
  },
  {
   "cell_type": "code",
   "execution_count": null,
   "metadata": {},
   "outputs": [],
   "source": [
    "data['peopleListResult']['peopleList'].pop()['peopleCd']"
   ]
  },
  {
   "cell_type": "code",
   "execution_count": null,
   "metadata": {},
   "outputs": [],
   "source": [
    "data_list = [{'peopleCd': '20309631', 'peopleNm': '백감독', 'repRoleNm': '감독', 'filmoNames': '귀신과 함께 춤을'}, {'peopleCd': '10038689', 'peopleNm': '존 왓츠', 'repRoleNm': '감독', 'filmoNames': '스파이더맨: 파 프롬 홈|스파이더맨: 홈 커밍|캅카'}, {'peopleCd': '10000296', 'peopleNm': '가이 리치', 'repRoleNm': '감독', 'filmoNames': '알라딘|킹 아서: 제왕의 검|맨 프롬 UNCLE|셜록홈즈 : 그림자 게임|셜록 홈즈|락큰롤라|리볼버|스웹트 어웨이|스내치|록 스탁 앤 2 스모킹 배럴즈'}, {'peopleCd': '10023314', 'peopleNm': '조시 쿨리', 'repRoleNm': '감독', 'filmoNames': '토이 스토리 4'}]"
   ]
  },
  {
   "cell_type": "code",
   "execution_count": null,
   "metadata": {},
   "outputs": [],
   "source": [
    "for n in range(len(data_list)):\n",
    "    print(data_list[n]['peopleNm'])"
   ]
  },
  {
   "cell_type": "code",
   "execution_count": null,
   "metadata": {},
   "outputs": [],
   "source": [
    "data_list['peopleNm']"
   ]
  },
  {
   "cell_type": "code",
   "execution_count": null,
   "metadata": {},
   "outputs": [],
   "source": [
    "name_list = []\n",
    "for n in range(len(data_list)):\n",
    "    name_list.append(data_list[n]['peopleNm'])\n",
    "name_list"
   ]
  },
  {
   "cell_type": "code",
   "execution_count": null,
   "metadata": {},
   "outputs": [],
   "source": []
  },
  {
   "cell_type": "code",
   "execution_count": null,
   "metadata": {},
   "outputs": [],
   "source": [
    "# import copy\n",
    "# import csv\n",
    "\n",
    "# import requests\n",
    "\n",
    "# URL = f'http://www.kobis.or.kr/kobisopenapi/webservice/rest/people/searchPeopleList.json?key=ca332ba70672c5032d0668b056d175d0&peopleNm='\n",
    "\n",
    "# result = {}\n",
    "# data_list = []\n",
    "\n",
    "# with open('movie.csv', 'r', encoding='utf-8') as f:\n",
    "#     items = csv.reader(f)\n",
    "#     for item in items:\n",
    "#         data = requests.get(URL+str(item[-1])).json()\n",
    "#         if data['peopleListResult']['peopleList']:\n",
    "#             for n in range(len(data_list)):\n",
    "#                 if not data['peopleListResult']['peopleList'][0]['peopleNm'] in data_list[n]['peopleNm']:\n",
    "#             profiles = ['peopleCd', 'peopleNm', 'repRoleNm', 'filmoNames',]\n",
    "#             for profile in profiles:\n",
    "#                 result[f'{profile}'] = data['peopleListResult']['peopleList'][0][f'{profile}']\n",
    "#                 data_list.append(copy.copy(result))\n",
    "\n",
    "# print(data_list)"
   ]
  },
  {
   "cell_type": "code",
   "execution_count": null,
   "metadata": {},
   "outputs": [],
   "source": []
  },
  {
   "cell_type": "code",
   "execution_count": null,
   "metadata": {},
   "outputs": [],
   "source": []
  },
  {
   "cell_type": "code",
   "execution_count": null,
   "metadata": {},
   "outputs": [],
   "source": []
  },
  {
   "cell_type": "code",
   "execution_count": null,
   "metadata": {},
   "outputs": [],
   "source": []
  },
  {
   "cell_type": "code",
   "execution_count": null,
   "metadata": {},
   "outputs": [],
   "source": []
  },
  {
   "cell_type": "code",
   "execution_count": null,
   "metadata": {},
   "outputs": [],
   "source": []
  }
 ],
 "metadata": {
  "kernelspec": {
   "display_name": "Python 3",
   "language": "python",
   "name": "python3"
  },
  "language_info": {
   "codemirror_mode": {
    "name": "ipython",
    "version": 3
   },
   "file_extension": ".py",
   "mimetype": "text/x-python",
   "name": "python",
   "nbconvert_exporter": "python",
   "pygments_lexer": "ipython3",
   "version": "3.7.4"
  }
 },
 "nbformat": 4,
 "nbformat_minor": 2
}
