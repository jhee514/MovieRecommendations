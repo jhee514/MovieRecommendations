{
 "cells": [
  {
   "cell_type": "code",
   "execution_count": 17,
   "metadata": {
    "scrolled": true
   },
   "outputs": [
    {
     "name": "stdout",
     "output_type": "stream",
     "text": [
      "<class 'dict'> {'movieInfoResult': {'movieInfo': {'movieCd': '20183782', 'movieNm': '기생충', 'movieNmEn': 'PARASITE', 'movieNmOg': '', 'showTm': '131', 'prdtYear': '2019', 'openDt': '20190530', 'prdtStatNm': '개봉', 'typeNm': '장편', 'nations': [{'nationNm': '한국'}], 'genres': [{'genreNm': '드라마'}], 'directors': [{'peopleNm': '봉준호', 'peopleNmEn': 'BONG Joon-ho'}], 'actors': [{'peopleNm': '송강호', 'peopleNmEn': 'SONG Kang-ho', 'cast': '기택', 'castEn': ''}, {'peopleNm': '이선균', 'peopleNmEn': 'LEE Sun-kyun', 'cast': '박사장', 'castEn': ''}, {'peopleNm': '조여정', 'peopleNmEn': 'JO Yeo-jeong', 'cast': '연교', 'castEn': ''}, {'peopleNm': '최우식', 'peopleNmEn': 'CHOI Woo-shik', 'cast': '기우', 'castEn': ''}, {'peopleNm': '박소담', 'peopleNmEn': 'PARK So-dam', 'cast': '기정', 'castEn': ''}, {'peopleNm': '장혜진', 'peopleNmEn': 'JANG Hye-jin', 'cast': '충숙', 'castEn': ''}, {'peopleNm': '이정은', 'peopleNmEn': 'LEE Jung-eun', 'cast': '문광', 'castEn': ''}, {'peopleNm': '박명훈', 'peopleNmEn': 'PARK Myeong-hoon', 'cast': '근세', 'castEn': ''}, {'peopleNm': '정지소', 'peopleNmEn': 'JEONG Ji-so', 'cast': '다혜', 'castEn': ''}, {'peopleNm': '정현준', 'peopleNmEn': 'JEONG Hyeon-jun', 'cast': '다송', 'castEn': ''}], 'showTypes': [{'showTypeGroupNm': '2D', 'showTypeNm': '디지털'}, {'showTypeGroupNm': '2D', 'showTypeNm': '디지털 영문자막'}, {'showTypeGroupNm': '2D', 'showTypeNm': '디지털 가치봄'}], 'companys': [{'companyCd': '20100558', 'companyNm': '(주)바른손이앤에이', 'companyNmEn': 'Barunson E&A', 'companyPartNm': '제작사'}, {'companyCd': '20110854', 'companyNm': '씨제이이앤엠(주)', 'companyNmEn': 'CJ ENM Corp.', 'companyPartNm': '배급사'}, {'companyCd': '20110854', 'companyNm': '씨제이이앤엠(주)', 'companyNmEn': 'CJ ENM Corp.', 'companyPartNm': '제공'}, {'companyCd': '20100109', 'companyNm': '씨제이엔터테인먼트', 'companyNmEn': 'CJ Entertainment', 'companyPartNm': '해외세일즈사'}], 'audits': [{'auditNo': '2019-MF00595', 'watchGradeNm': '15세이상관람가'}], 'staffs': [{'peopleNm': '곽신애', 'peopleNmEn': 'KWAK Sin-ae', 'staffRoleNm': '제작'}, {'peopleNm': '문양권', 'peopleNmEn': 'MOON Yang-kwon', 'staffRoleNm': '제작'}, {'peopleNm': '장영환', 'peopleNmEn': 'JANG Young-hwan', 'staffRoleNm': '프로듀서'}, {'peopleNm': '정재일', 'peopleNmEn': 'JUNG Jae-il', 'staffRoleNm': '음악'}, {'peopleNm': '한진원', 'peopleNmEn': '', 'staffRoleNm': '시나리오(각본)'}, {'peopleNm': '홍경표', 'peopleNmEn': 'HONG Kyeong-pyo', 'staffRoleNm': '촬영'}, {'peopleNm': '김창호', 'peopleNmEn': 'KIM Chang-ho', 'staffRoleNm': '조명'}, {'peopleNm': '이하준', 'peopleNmEn': 'LEE Ha-joon', 'staffRoleNm': '미술/프로덕션 디자인'}, {'peopleNm': '봉준호', 'peopleNmEn': 'BONG Joon-ho', 'staffRoleNm': '시나리오(각본)'}]}, 'source': '영화진흥위원회'}}\n"
     ]
    }
   ],
   "source": [
    "import copy\n",
    "import csv\n",
    "\n",
    "import requests\n",
    "from decouple import config\n",
    "\n",
    "API_KEY = config('API_KEY')\n",
    "URL = f'http://www.kobis.or.kr/kobisopenapi/webservice/rest/movie/searchMovieInfo.json?key={API_KEY}&movieCd='\n",
    "\n",
    "data = requests.get(URL+'20183782').json()\n",
    "\n",
    "print(type(data), data)"
   ]
  },
  {
   "cell_type": "code",
   "execution_count": 21,
   "metadata": {
    "scrolled": true
   },
   "outputs": [
    {
     "name": "stdout",
     "output_type": "stream",
     "text": [
      "<class 'dict'>\n",
      "{'movieCd': '20183782', 'movieNm': '기생충', 'movieNmEn': 'PARASITE', 'movieNmOg': '', 'showTm': '131', 'prdtYear': '2019', 'openDt': '20190530', 'prdtStatNm': '개봉', 'typeNm': '장편', 'nations': [{'nationNm': '한국'}], 'genres': [{'genreNm': '드라마'}], 'directors': [{'peopleNm': '봉준호', 'peopleNmEn': 'BONG Joon-ho'}], 'actors': [{'peopleNm': '송강호', 'peopleNmEn': 'SONG Kang-ho', 'cast': '기택', 'castEn': ''}, {'peopleNm': '이선균', 'peopleNmEn': 'LEE Sun-kyun', 'cast': '박사장', 'castEn': ''}, {'peopleNm': '조여정', 'peopleNmEn': 'JO Yeo-jeong', 'cast': '연교', 'castEn': ''}, {'peopleNm': '최우식', 'peopleNmEn': 'CHOI Woo-shik', 'cast': '기우', 'castEn': ''}, {'peopleNm': '박소담', 'peopleNmEn': 'PARK So-dam', 'cast': '기정', 'castEn': ''}, {'peopleNm': '장혜진', 'peopleNmEn': 'JANG Hye-jin', 'cast': '충숙', 'castEn': ''}, {'peopleNm': '이정은', 'peopleNmEn': 'LEE Jung-eun', 'cast': '문광', 'castEn': ''}, {'peopleNm': '박명훈', 'peopleNmEn': 'PARK Myeong-hoon', 'cast': '근세', 'castEn': ''}, {'peopleNm': '정지소', 'peopleNmEn': 'JEONG Ji-so', 'cast': '다혜', 'castEn': ''}, {'peopleNm': '정현준', 'peopleNmEn': 'JEONG Hyeon-jun', 'cast': '다송', 'castEn': ''}], 'showTypes': [{'showTypeGroupNm': '2D', 'showTypeNm': '디지털'}, {'showTypeGroupNm': '2D', 'showTypeNm': '디지털 영문자막'}, {'showTypeGroupNm': '2D', 'showTypeNm': '디지털 가치봄'}], 'companys': [{'companyCd': '20100558', 'companyNm': '(주)바른손이앤에이', 'companyNmEn': 'Barunson E&A', 'companyPartNm': '제작사'}, {'companyCd': '20110854', 'companyNm': '씨제이이앤엠(주)', 'companyNmEn': 'CJ ENM Corp.', 'companyPartNm': '배급사'}, {'companyCd': '20110854', 'companyNm': '씨제이이앤엠(주)', 'companyNmEn': 'CJ ENM Corp.', 'companyPartNm': '제공'}, {'companyCd': '20100109', 'companyNm': '씨제이엔터테인먼트', 'companyNmEn': 'CJ Entertainment', 'companyPartNm': '해외세일즈사'}], 'audits': [{'auditNo': '2019-MF00595', 'watchGradeNm': '15세이상관람가'}], 'staffs': [{'peopleNm': '곽신애', 'peopleNmEn': 'KWAK Sin-ae', 'staffRoleNm': '제작'}, {'peopleNm': '문양권', 'peopleNmEn': 'MOON Yang-kwon', 'staffRoleNm': '제작'}, {'peopleNm': '장영환', 'peopleNmEn': 'JANG Young-hwan', 'staffRoleNm': '프로듀서'}, {'peopleNm': '정재일', 'peopleNmEn': 'JUNG Jae-il', 'staffRoleNm': '음악'}, {'peopleNm': '한진원', 'peopleNmEn': '', 'staffRoleNm': '시나리오(각본)'}, {'peopleNm': '홍경표', 'peopleNmEn': 'HONG Kyeong-pyo', 'staffRoleNm': '촬영'}, {'peopleNm': '김창호', 'peopleNmEn': 'KIM Chang-ho', 'staffRoleNm': '조명'}, {'peopleNm': '이하준', 'peopleNmEn': 'LEE Ha-joon', 'staffRoleNm': '미술/프로덕션 디자인'}, {'peopleNm': '봉준호', 'peopleNmEn': 'BONG Joon-ho', 'staffRoleNm': '시나리오(각본)'}]}\n"
     ]
    }
   ],
   "source": [
    "print(type(data.get('movieInfoResult').get('movieInfo')))\n",
    "print(data.get('movieInfoResult').get('movieInfo'))"
   ]
  },
  {
   "cell_type": "code",
   "execution_count": null,
   "metadata": {},
   "outputs": [],
   "source": [
    "# sol.\n",
    "# list 값이 비어있는 경우 값이 없어서 가져올 수가 없으니 코드 돌리면 에러가 난단말이야 \n",
    "# 그러니까 if 절을 false가 나면 실행이 되지 않도록 다음과 같이 작성해 준다.\n",
    "\n",
    "# if movie_data['movieInfoResult']['movieInfo']['audits']:\n",
    "#     movie_data['movieInfoResult']['movieInfo']['audits'][0]['watchGradeNm']"
   ]
  },
  {
   "cell_type": "markdown",
   "metadata": {},
   "source": [
    "특정 movie_cd값을 넣어 줬을 때 나오는 movie_data에서 자료를 찾는 것"
   ]
  },
  {
   "cell_type": "code",
   "execution_count": 46,
   "metadata": {},
   "outputs": [
    {
     "name": "stdout",
     "output_type": "stream",
     "text": [
      "[{'movieCd': '20183782', 'movieNm': '기생충', 'movieNmEn': 'PARASITE', 'movieNmOg': '', 'audits': [{'auditNo': '2019-MF00595', 'watchGradeNm': '15세이상관람가'}], 'prdtYear': '2019', 'showTm': '131', 'genres': [{'genreNm': '드라마'}], 'directors': [{'peopleNm': '봉준호', 'peopleNmEn': 'BONG Joon-ho'}]}]\n"
     ]
    }
   ],
   "source": [
    "result = {}\n",
    "data_list = []\n",
    "\n",
    "result['movieCd'] = data['movieInfoResult']['movieInfo']['movieCd']\n",
    "result['movieNm'] = data['movieInfoResult']['movieInfo']['movieNm']\n",
    "result['movieNmEn'] = data['movieInfoResult']['movieInfo']['movieNmEn']\n",
    "result['movieNmOg'] = data['movieInfoResult']['movieInfo']['movieNmOg']\n",
    "result['audits'] = data['movieInfoResult']['movieInfo']['audits']\n",
    "result['prdtYear'] = data['movieInfoResult']['movieInfo']['prdtYear']\n",
    "result['showTm'] = data['movieInfoResult']['movieInfo']['showTm']\n",
    "result['genres'] = data['movieInfoResult']['movieInfo']['genres']\n",
    "result['directors'] = data['movieInfoResult']['movieInfo']['directors']\n",
    "data_list.append(copy.copy(result))\n",
    "print(data_list)"
   ]
  },
  {
   "cell_type": "code",
   "execution_count": null,
   "metadata": {},
   "outputs": [],
   "source": []
  },
  {
   "cell_type": "code",
   "execution_count": null,
   "metadata": {},
   "outputs": [],
   "source": []
  },
  {
   "cell_type": "code",
   "execution_count": null,
   "metadata": {},
   "outputs": [],
   "source": []
  },
  {
   "cell_type": "code",
   "execution_count": null,
   "metadata": {},
   "outputs": [],
   "source": []
  }
 ],
 "metadata": {
  "kernelspec": {
   "display_name": "Python 3",
   "language": "python",
   "name": "python3"
  },
  "language_info": {
   "codemirror_mode": {
    "name": "ipython",
    "version": 3
   },
   "file_extension": ".py",
   "mimetype": "text/x-python",
   "name": "python",
   "nbconvert_exporter": "python",
   "pygments_lexer": "ipython3",
   "version": "3.7.3"
  }
 },
 "nbformat": 4,
 "nbformat_minor": 2
}
